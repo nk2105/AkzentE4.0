{
 "cells": [
  {
   "cell_type": "code",
   "execution_count": 1,
   "metadata": {},
   "outputs": [
    {
     "name": "stderr",
     "output_type": "stream",
     "text": [
      "/home/guts/.local/lib/python3.10/site-packages/tqdm/auto.py:21: TqdmWarning: IProgress not found. Please update jupyter and ipywidgets. See https://ipywidgets.readthedocs.io/en/stable/user_install.html\n",
      "  from .autonotebook import tqdm as notebook_tqdm\n",
      "/home/guts/.local/lib/python3.10/site-packages/matplotlib/projections/__init__.py:63: UserWarning: Unable to import Axes3D. This may be due to multiple versions of Matplotlib being installed (e.g. as a system package and as a pip package). As a result, the 3D projection is not available.\n",
      "  warnings.warn(\"Unable to import Axes3D. This may be due to multiple versions of \"\n",
      "Importing plotly failed. Interactive plots will not work.\n"
     ]
    }
   ],
   "source": [
    "from prophet import Prophet\n",
    "import pandas as pd\n",
    "from warnings import filterwarnings\n",
    "filterwarnings('ignore')"
   ]
  },
  {
   "cell_type": "code",
   "execution_count": 2,
   "metadata": {},
   "outputs": [
    {
     "data": {
      "text/html": [
       "<div>\n",
       "<style scoped>\n",
       "    .dataframe tbody tr th:only-of-type {\n",
       "        vertical-align: middle;\n",
       "    }\n",
       "\n",
       "    .dataframe tbody tr th {\n",
       "        vertical-align: top;\n",
       "    }\n",
       "\n",
       "    .dataframe thead th {\n",
       "        text-align: right;\n",
       "    }\n",
       "</style>\n",
       "<table border=\"1\" class=\"dataframe\">\n",
       "  <thead>\n",
       "    <tr style=\"text-align: right;\">\n",
       "      <th></th>\n",
       "      <th>ds</th>\n",
       "      <th>y</th>\n",
       "    </tr>\n",
       "  </thead>\n",
       "  <tbody>\n",
       "    <tr>\n",
       "      <th>0</th>\n",
       "      <td>2024-08-09 14:23:41</td>\n",
       "      <td>10.110164</td>\n",
       "    </tr>\n",
       "    <tr>\n",
       "      <th>1</th>\n",
       "      <td>2024-08-09 14:23:42</td>\n",
       "      <td>9.555678</td>\n",
       "    </tr>\n",
       "    <tr>\n",
       "      <th>2</th>\n",
       "      <td>2024-08-09 14:23:44</td>\n",
       "      <td>9.325334</td>\n",
       "    </tr>\n",
       "    <tr>\n",
       "      <th>3</th>\n",
       "      <td>2024-08-09 14:23:48</td>\n",
       "      <td>9.532025</td>\n",
       "    </tr>\n",
       "    <tr>\n",
       "      <th>4</th>\n",
       "      <td>2024-08-09 14:23:49</td>\n",
       "      <td>9.468498</td>\n",
       "    </tr>\n",
       "    <tr>\n",
       "      <th>...</th>\n",
       "      <td>...</td>\n",
       "      <td>...</td>\n",
       "    </tr>\n",
       "    <tr>\n",
       "      <th>18662</th>\n",
       "      <td>2024-08-10 01:05:10</td>\n",
       "      <td>9.490646</td>\n",
       "    </tr>\n",
       "    <tr>\n",
       "      <th>18663</th>\n",
       "      <td>2024-08-10 01:05:13</td>\n",
       "      <td>10.447052</td>\n",
       "    </tr>\n",
       "    <tr>\n",
       "      <th>18664</th>\n",
       "      <td>2024-08-10 01:05:15</td>\n",
       "      <td>9.073947</td>\n",
       "    </tr>\n",
       "    <tr>\n",
       "      <th>18665</th>\n",
       "      <td>2024-08-10 01:05:16</td>\n",
       "      <td>10.054511</td>\n",
       "    </tr>\n",
       "    <tr>\n",
       "      <th>18666</th>\n",
       "      <td>2024-08-10 01:06:57</td>\n",
       "      <td>9.576489</td>\n",
       "    </tr>\n",
       "  </tbody>\n",
       "</table>\n",
       "<p>18667 rows × 2 columns</p>\n",
       "</div>"
      ],
      "text/plain": [
       "                       ds          y\n",
       "0     2024-08-09 14:23:41  10.110164\n",
       "1     2024-08-09 14:23:42   9.555678\n",
       "2     2024-08-09 14:23:44   9.325334\n",
       "3     2024-08-09 14:23:48   9.532025\n",
       "4     2024-08-09 14:23:49   9.468498\n",
       "...                   ...        ...\n",
       "18662 2024-08-10 01:05:10   9.490646\n",
       "18663 2024-08-10 01:05:13  10.447052\n",
       "18664 2024-08-10 01:05:15   9.073947\n",
       "18665 2024-08-10 01:05:16  10.054511\n",
       "18666 2024-08-10 01:06:57   9.576489\n",
       "\n",
       "[18667 rows x 2 columns]"
      ]
     },
     "execution_count": 2,
     "metadata": {},
     "output_type": "execute_result"
    }
   ],
   "source": [
    "path = \"/home/guts/Documents/accel_data/acceleration_data.csv\"\n",
    "df = pd.read_csv(path, header=0, index_col=0)\n",
    "df.index = pd.to_datetime(df.index)\n",
    "dataset = pd.DataFrame()\n",
    "dataset['ds'] = df.index\n",
    "dataset['y'] = df.values\n",
    "\n",
    "dataset"
   ]
  },
  {
   "cell_type": "code",
   "execution_count": 5,
   "metadata": {},
   "outputs": [],
   "source": [
    "split = int(0.8 * len(dataset))\n",
    "# Split the data using the split timestamp\n",
    "train =dataset[0:split]\n",
    "test =dataset[split:]\n"
   ]
  },
  {
   "cell_type": "code",
   "execution_count": 6,
   "metadata": {},
   "outputs": [
    {
     "name": "stdout",
     "output_type": "stream",
     "text": [
      "                   ds          y\n",
      "0 2024-08-09 14:23:41  10.110164\n",
      "1 2024-08-09 14:23:42   9.555678\n",
      "2 2024-08-09 14:23:44   9.325334\n",
      "3 2024-08-09 14:23:48   9.532025\n",
      "4 2024-08-09 14:23:49   9.468498\n",
      "                       ds          y\n",
      "18662 2024-08-10 01:05:10   9.490646\n",
      "18663 2024-08-10 01:05:13  10.447052\n",
      "18664 2024-08-10 01:05:15   9.073947\n",
      "18665 2024-08-10 01:05:16  10.054511\n",
      "18666 2024-08-10 01:06:57   9.576489\n"
     ]
    }
   ],
   "source": [
    "print(train.head())\n",
    "print(test.tail())"
   ]
  },
  {
   "cell_type": "code",
   "execution_count": null,
   "metadata": {},
   "outputs": [],
   "source": [
    "m = Prophet()\n",
    "m.fit(train)"
   ]
  },
  {
   "cell_type": "code",
   "execution_count": null,
   "metadata": {},
   "outputs": [],
   "source": [
    "test_forecast = m.predict(test)\n",
    "test_forecast"
   ]
  },
  {
   "cell_type": "code",
   "execution_count": null,
   "metadata": {},
   "outputs": [],
   "source": [
    "fig1 = m.plot(test_forecast)\n"
   ]
  },
  {
   "cell_type": "code",
   "execution_count": null,
   "metadata": {},
   "outputs": [],
   "source": [
    "forecast_test = m.predict(test)\n",
    "forecast_test['fact'] = test['y'].reset_index(drop=True)"
   ]
  }
 ],
 "metadata": {
  "kernelspec": {
   "display_name": "Python 3",
   "language": "python",
   "name": "python3"
  },
  "language_info": {
   "codemirror_mode": {
    "name": "ipython",
    "version": 3
   },
   "file_extension": ".py",
   "mimetype": "text/x-python",
   "name": "python",
   "nbconvert_exporter": "python",
   "pygments_lexer": "ipython3",
   "version": "3.10.12"
  }
 },
 "nbformat": 4,
 "nbformat_minor": 2
}
