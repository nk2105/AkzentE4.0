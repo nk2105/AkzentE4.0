{
 "cells": [
  {
   "cell_type": "code",
   "execution_count": 1,
   "metadata": {},
   "outputs": [
    {
     "name": "stderr",
     "output_type": "stream",
     "text": [
      "/home/guts/.local/lib/python3.10/site-packages/matplotlib/projections/__init__.py:63: UserWarning: Unable to import Axes3D. This may be due to multiple versions of Matplotlib being installed (e.g. as a system package and as a pip package). As a result, the 3D projection is not available.\n",
      "  warnings.warn(\"Unable to import Axes3D. This may be due to multiple versions of \"\n"
     ]
    }
   ],
   "source": [
    "import pandas as pd\n",
    "import numpy as np\n",
    "import matplotlib.pyplot as plt\n",
    "import torch\n",
    "import torch.nn as nn\n",
    "import warnings \n",
    "warnings.filterwarnings(\"ignore\")\n",
    "\n"
   ]
  },
  {
   "cell_type": "code",
   "execution_count": 14,
   "metadata": {},
   "outputs": [
    {
     "data": {
      "text/html": [
       "<div>\n",
       "<style scoped>\n",
       "    .dataframe tbody tr th:only-of-type {\n",
       "        vertical-align: middle;\n",
       "    }\n",
       "\n",
       "    .dataframe tbody tr th {\n",
       "        vertical-align: top;\n",
       "    }\n",
       "\n",
       "    .dataframe thead th {\n",
       "        text-align: right;\n",
       "    }\n",
       "</style>\n",
       "<table border=\"1\" class=\"dataframe\">\n",
       "  <thead>\n",
       "    <tr style=\"text-align: right;\">\n",
       "      <th></th>\n",
       "      <th>Timestamp</th>\n",
       "      <th>Linear x</th>\n",
       "      <th>Linear y</th>\n",
       "      <th>Linear z</th>\n",
       "      <th>Filtered x</th>\n",
       "      <th>Filtered y</th>\n",
       "      <th>Filtered z</th>\n",
       "      <th>Angular x</th>\n",
       "      <th>Angular y</th>\n",
       "      <th>Angular z</th>\n",
       "    </tr>\n",
       "  </thead>\n",
       "  <tbody>\n",
       "    <tr>\n",
       "      <th>0</th>\n",
       "      <td>2024-08-23 14:24:45</td>\n",
       "      <td>-0.08</td>\n",
       "      <td>0.01</td>\n",
       "      <td>0.14</td>\n",
       "      <td>-0.149835</td>\n",
       "      <td>0.008999</td>\n",
       "      <td>-10.120889</td>\n",
       "      <td>0.006762</td>\n",
       "      <td>-0.004553</td>\n",
       "      <td>0.004431</td>\n",
       "    </tr>\n",
       "    <tr>\n",
       "      <th>1</th>\n",
       "      <td>2024-08-23 14:24:53</td>\n",
       "      <td>-0.14</td>\n",
       "      <td>-0.01</td>\n",
       "      <td>0.15</td>\n",
       "      <td>-0.305458</td>\n",
       "      <td>-0.085572</td>\n",
       "      <td>-10.058042</td>\n",
       "      <td>-0.004956</td>\n",
       "      <td>-0.005618</td>\n",
       "      <td>-0.003025</td>\n",
       "    </tr>\n",
       "    <tr>\n",
       "      <th>2</th>\n",
       "      <td>2024-08-23 14:25:05</td>\n",
       "      <td>-0.10</td>\n",
       "      <td>0.03</td>\n",
       "      <td>0.10</td>\n",
       "      <td>-0.296480</td>\n",
       "      <td>0.041919</td>\n",
       "      <td>-10.014946</td>\n",
       "      <td>0.002501</td>\n",
       "      <td>0.010361</td>\n",
       "      <td>0.005497</td>\n",
       "    </tr>\n",
       "    <tr>\n",
       "      <th>3</th>\n",
       "      <td>2024-08-23 14:25:09</td>\n",
       "      <td>-0.05</td>\n",
       "      <td>0.11</td>\n",
       "      <td>-0.15</td>\n",
       "      <td>-0.257574</td>\n",
       "      <td>-0.110112</td>\n",
       "      <td>-10.016742</td>\n",
       "      <td>0.005697</td>\n",
       "      <td>-0.014140</td>\n",
       "      <td>-0.004091</td>\n",
       "    </tr>\n",
       "    <tr>\n",
       "      <th>4</th>\n",
       "      <td>2024-08-23 14:25:14</td>\n",
       "      <td>-0.05</td>\n",
       "      <td>0.01</td>\n",
       "      <td>0.17</td>\n",
       "      <td>-0.142054</td>\n",
       "      <td>-0.128069</td>\n",
       "      <td>-9.561244</td>\n",
       "      <td>-0.008151</td>\n",
       "      <td>0.007165</td>\n",
       "      <td>0.004431</td>\n",
       "    </tr>\n",
       "    <tr>\n",
       "      <th>...</th>\n",
       "      <td>...</td>\n",
       "      <td>...</td>\n",
       "      <td>...</td>\n",
       "      <td>...</td>\n",
       "      <td>...</td>\n",
       "      <td>...</td>\n",
       "      <td>...</td>\n",
       "      <td>...</td>\n",
       "      <td>...</td>\n",
       "      <td>...</td>\n",
       "    </tr>\n",
       "    <tr>\n",
       "      <th>49195</th>\n",
       "      <td>2024-08-28 09:32:59</td>\n",
       "      <td>0.23</td>\n",
       "      <td>-0.10</td>\n",
       "      <td>-0.38</td>\n",
       "      <td>-2.314792</td>\n",
       "      <td>-1.306016</td>\n",
       "      <td>-8.895657</td>\n",
       "      <td>-0.006021</td>\n",
       "      <td>0.003969</td>\n",
       "      <td>-0.020070</td>\n",
       "    </tr>\n",
       "    <tr>\n",
       "      <th>49196</th>\n",
       "      <td>2024-08-28 09:33:04</td>\n",
       "      <td>-0.05</td>\n",
       "      <td>-0.02</td>\n",
       "      <td>-0.10</td>\n",
       "      <td>-1.636634</td>\n",
       "      <td>-0.231618</td>\n",
       "      <td>-9.140464</td>\n",
       "      <td>0.016350</td>\n",
       "      <td>-0.005618</td>\n",
       "      <td>0.011888</td>\n",
       "    </tr>\n",
       "    <tr>\n",
       "      <th>49197</th>\n",
       "      <td>2024-08-28 09:33:06</td>\n",
       "      <td>-0.09</td>\n",
       "      <td>-0.03</td>\n",
       "      <td>0.04</td>\n",
       "      <td>-2.512314</td>\n",
       "      <td>-1.347316</td>\n",
       "      <td>-10.022128</td>\n",
       "      <td>-0.011347</td>\n",
       "      <td>0.002904</td>\n",
       "      <td>0.025737</td>\n",
       "    </tr>\n",
       "    <tr>\n",
       "      <th>49198</th>\n",
       "      <td>2024-08-28 09:33:07</td>\n",
       "      <td>-0.07</td>\n",
       "      <td>-0.05</td>\n",
       "      <td>-0.27</td>\n",
       "      <td>-2.360282</td>\n",
       "      <td>-1.757323</td>\n",
       "      <td>-8.970475</td>\n",
       "      <td>-0.000695</td>\n",
       "      <td>0.014622</td>\n",
       "      <td>-0.010482</td>\n",
       "    </tr>\n",
       "    <tr>\n",
       "      <th>49199</th>\n",
       "      <td>2024-08-28 09:33:09</td>\n",
       "      <td>-0.01</td>\n",
       "      <td>-0.12</td>\n",
       "      <td>-0.13</td>\n",
       "      <td>-2.553614</td>\n",
       "      <td>-1.471815</td>\n",
       "      <td>-9.608530</td>\n",
       "      <td>-0.000695</td>\n",
       "      <td>0.007165</td>\n",
       "      <td>0.017215</td>\n",
       "    </tr>\n",
       "  </tbody>\n",
       "</table>\n",
       "<p>49200 rows × 10 columns</p>\n",
       "</div>"
      ],
      "text/plain": [
       "                Timestamp  Linear x  Linear y  Linear z  Filtered x  \\\n",
       "0     2024-08-23 14:24:45     -0.08      0.01      0.14   -0.149835   \n",
       "1     2024-08-23 14:24:53     -0.14     -0.01      0.15   -0.305458   \n",
       "2     2024-08-23 14:25:05     -0.10      0.03      0.10   -0.296480   \n",
       "3     2024-08-23 14:25:09     -0.05      0.11     -0.15   -0.257574   \n",
       "4     2024-08-23 14:25:14     -0.05      0.01      0.17   -0.142054   \n",
       "...                   ...       ...       ...       ...         ...   \n",
       "49195 2024-08-28 09:32:59      0.23     -0.10     -0.38   -2.314792   \n",
       "49196 2024-08-28 09:33:04     -0.05     -0.02     -0.10   -1.636634   \n",
       "49197 2024-08-28 09:33:06     -0.09     -0.03      0.04   -2.512314   \n",
       "49198 2024-08-28 09:33:07     -0.07     -0.05     -0.27   -2.360282   \n",
       "49199 2024-08-28 09:33:09     -0.01     -0.12     -0.13   -2.553614   \n",
       "\n",
       "       Filtered y  Filtered z  Angular x  Angular y  Angular z  \n",
       "0        0.008999  -10.120889   0.006762  -0.004553   0.004431  \n",
       "1       -0.085572  -10.058042  -0.004956  -0.005618  -0.003025  \n",
       "2        0.041919  -10.014946   0.002501   0.010361   0.005497  \n",
       "3       -0.110112  -10.016742   0.005697  -0.014140  -0.004091  \n",
       "4       -0.128069   -9.561244  -0.008151   0.007165   0.004431  \n",
       "...           ...         ...        ...        ...        ...  \n",
       "49195   -1.306016   -8.895657  -0.006021   0.003969  -0.020070  \n",
       "49196   -0.231618   -9.140464   0.016350  -0.005618   0.011888  \n",
       "49197   -1.347316  -10.022128  -0.011347   0.002904   0.025737  \n",
       "49198   -1.757323   -8.970475  -0.000695   0.014622  -0.010482  \n",
       "49199   -1.471815   -9.608530  -0.000695   0.007165   0.017215  \n",
       "\n",
       "[49200 rows x 10 columns]"
      ]
     },
     "execution_count": 14,
     "metadata": {},
     "output_type": "execute_result"
    }
   ],
   "source": [
    "# Load the df\n",
    "\n",
    "path = \"/home/guts/Documents/accel_data/merged_data.csv\"\n",
    "dataset = pd.read_csv(path)\n",
    "dataset['Timestamp'] = pd.to_datetime(dataset['Timestamp'])\n",
    "dataset"
   ]
  },
  {
   "cell_type": "code",
   "execution_count": 25,
   "metadata": {},
   "outputs": [],
   "source": [
    "df = pd.DataFrame()\n",
    "df['Timestamp'] = dataset['Timestamp']\n",
    "df['y'] = dataset['Linear y']"
   ]
  },
  {
   "cell_type": "code",
   "execution_count": 26,
   "metadata": {},
   "outputs": [
    {
     "data": {
      "text/plain": [
       "device(type='cuda')"
      ]
     },
     "execution_count": 26,
     "metadata": {},
     "output_type": "execute_result"
    }
   ],
   "source": [
    "\n",
    "device = torch.device(\"cuda\" if torch.cuda.is_available() else \"cpu\")\n",
    "device"
   ]
  },
  {
   "cell_type": "code",
   "execution_count": 27,
   "metadata": {},
   "outputs": [
    {
     "name": "stdout",
     "output_type": "stream",
     "text": [
      "2.4.0+cu124\n"
     ]
    }
   ],
   "source": [
    "print(torch.__version__)"
   ]
  },
  {
   "cell_type": "code",
   "execution_count": 28,
   "metadata": {},
   "outputs": [],
   "source": [
    "# Plot the df\n",
    "#plt.figure(figsize=(15, 8))\n",
    "#plt.plot(df['Timestamp'],df['Linear x'], label='Linear x', color='blue')\n",
    "#plt.plot(df['Timestamp'],df['Linear y'], label='Linear y', color='red')\n",
    "#plt.plot(df['Timestamp'],df['Linear z'], label='Linear z', color='green')\n",
    "#plt.legend()\n",
    "#plt.show()\n",
    "#\n",
    "#df['Linear rms'] = np.sqrt(df['Linear x']**2 + df['Linear y']**2 + df['Linear z']**2)\n",
    "#plt.figure(figsize=(15, 8))\n",
    "#plt.plot(df['Timestamp'],df['Linear rms'], label='Linear mean', color='brown')\n",
    "#plt.legend()\n",
    "#plt.show()"
   ]
  },
  {
   "cell_type": "code",
   "execution_count": 29,
   "metadata": {},
   "outputs": [
    {
     "data": {
      "text/html": [
       "<div>\n",
       "<style scoped>\n",
       "    .dataframe tbody tr th:only-of-type {\n",
       "        vertical-align: middle;\n",
       "    }\n",
       "\n",
       "    .dataframe tbody tr th {\n",
       "        vertical-align: top;\n",
       "    }\n",
       "\n",
       "    .dataframe thead th {\n",
       "        text-align: right;\n",
       "    }\n",
       "</style>\n",
       "<table border=\"1\" class=\"dataframe\">\n",
       "  <thead>\n",
       "    <tr style=\"text-align: right;\">\n",
       "      <th></th>\n",
       "      <th>y</th>\n",
       "      <th>Acceleration_(t-1)</th>\n",
       "      <th>Acceleration_(t-2)</th>\n",
       "      <th>Acceleration_(t-3)</th>\n",
       "      <th>Acceleration_(t-4)</th>\n",
       "      <th>Acceleration_(t-5)</th>\n",
       "      <th>Acceleration_(t-6)</th>\n",
       "      <th>Acceleration_(t-7)</th>\n",
       "      <th>Acceleration_(t-8)</th>\n",
       "      <th>Acceleration_(t-9)</th>\n",
       "      <th>Acceleration_(t-10)</th>\n",
       "    </tr>\n",
       "    <tr>\n",
       "      <th>Timestamp</th>\n",
       "      <th></th>\n",
       "      <th></th>\n",
       "      <th></th>\n",
       "      <th></th>\n",
       "      <th></th>\n",
       "      <th></th>\n",
       "      <th></th>\n",
       "      <th></th>\n",
       "      <th></th>\n",
       "      <th></th>\n",
       "      <th></th>\n",
       "    </tr>\n",
       "  </thead>\n",
       "  <tbody>\n",
       "    <tr>\n",
       "      <th>2024-08-23 14:26:03</th>\n",
       "      <td>0.05</td>\n",
       "      <td>-0.05</td>\n",
       "      <td>-0.01</td>\n",
       "      <td>0.01</td>\n",
       "      <td>0.12</td>\n",
       "      <td>0.15</td>\n",
       "      <td>0.01</td>\n",
       "      <td>0.11</td>\n",
       "      <td>0.03</td>\n",
       "      <td>-0.01</td>\n",
       "      <td>0.01</td>\n",
       "    </tr>\n",
       "    <tr>\n",
       "      <th>2024-08-23 14:26:08</th>\n",
       "      <td>0.02</td>\n",
       "      <td>0.05</td>\n",
       "      <td>-0.05</td>\n",
       "      <td>-0.01</td>\n",
       "      <td>0.01</td>\n",
       "      <td>0.12</td>\n",
       "      <td>0.15</td>\n",
       "      <td>0.01</td>\n",
       "      <td>0.11</td>\n",
       "      <td>0.03</td>\n",
       "      <td>-0.01</td>\n",
       "    </tr>\n",
       "    <tr>\n",
       "      <th>2024-08-23 14:26:10</th>\n",
       "      <td>-0.06</td>\n",
       "      <td>0.02</td>\n",
       "      <td>0.05</td>\n",
       "      <td>-0.05</td>\n",
       "      <td>-0.01</td>\n",
       "      <td>0.01</td>\n",
       "      <td>0.12</td>\n",
       "      <td>0.15</td>\n",
       "      <td>0.01</td>\n",
       "      <td>0.11</td>\n",
       "      <td>0.03</td>\n",
       "    </tr>\n",
       "    <tr>\n",
       "      <th>2024-08-23 14:26:20</th>\n",
       "      <td>0.03</td>\n",
       "      <td>-0.06</td>\n",
       "      <td>0.02</td>\n",
       "      <td>0.05</td>\n",
       "      <td>-0.05</td>\n",
       "      <td>-0.01</td>\n",
       "      <td>0.01</td>\n",
       "      <td>0.12</td>\n",
       "      <td>0.15</td>\n",
       "      <td>0.01</td>\n",
       "      <td>0.11</td>\n",
       "    </tr>\n",
       "    <tr>\n",
       "      <th>2024-08-23 14:26:22</th>\n",
       "      <td>0.07</td>\n",
       "      <td>0.03</td>\n",
       "      <td>-0.06</td>\n",
       "      <td>0.02</td>\n",
       "      <td>0.05</td>\n",
       "      <td>-0.05</td>\n",
       "      <td>-0.01</td>\n",
       "      <td>0.01</td>\n",
       "      <td>0.12</td>\n",
       "      <td>0.15</td>\n",
       "      <td>0.01</td>\n",
       "    </tr>\n",
       "    <tr>\n",
       "      <th>...</th>\n",
       "      <td>...</td>\n",
       "      <td>...</td>\n",
       "      <td>...</td>\n",
       "      <td>...</td>\n",
       "      <td>...</td>\n",
       "      <td>...</td>\n",
       "      <td>...</td>\n",
       "      <td>...</td>\n",
       "      <td>...</td>\n",
       "      <td>...</td>\n",
       "      <td>...</td>\n",
       "    </tr>\n",
       "    <tr>\n",
       "      <th>2024-08-28 09:32:59</th>\n",
       "      <td>-0.10</td>\n",
       "      <td>0.09</td>\n",
       "      <td>0.00</td>\n",
       "      <td>-0.08</td>\n",
       "      <td>-0.08</td>\n",
       "      <td>-0.06</td>\n",
       "      <td>-0.08</td>\n",
       "      <td>-0.09</td>\n",
       "      <td>-0.16</td>\n",
       "      <td>-0.13</td>\n",
       "      <td>-0.14</td>\n",
       "    </tr>\n",
       "    <tr>\n",
       "      <th>2024-08-28 09:33:04</th>\n",
       "      <td>-0.02</td>\n",
       "      <td>-0.10</td>\n",
       "      <td>0.09</td>\n",
       "      <td>0.00</td>\n",
       "      <td>-0.08</td>\n",
       "      <td>-0.08</td>\n",
       "      <td>-0.06</td>\n",
       "      <td>-0.08</td>\n",
       "      <td>-0.09</td>\n",
       "      <td>-0.16</td>\n",
       "      <td>-0.13</td>\n",
       "    </tr>\n",
       "    <tr>\n",
       "      <th>2024-08-28 09:33:06</th>\n",
       "      <td>-0.03</td>\n",
       "      <td>-0.02</td>\n",
       "      <td>-0.10</td>\n",
       "      <td>0.09</td>\n",
       "      <td>0.00</td>\n",
       "      <td>-0.08</td>\n",
       "      <td>-0.08</td>\n",
       "      <td>-0.06</td>\n",
       "      <td>-0.08</td>\n",
       "      <td>-0.09</td>\n",
       "      <td>-0.16</td>\n",
       "    </tr>\n",
       "    <tr>\n",
       "      <th>2024-08-28 09:33:07</th>\n",
       "      <td>-0.05</td>\n",
       "      <td>-0.03</td>\n",
       "      <td>-0.02</td>\n",
       "      <td>-0.10</td>\n",
       "      <td>0.09</td>\n",
       "      <td>0.00</td>\n",
       "      <td>-0.08</td>\n",
       "      <td>-0.08</td>\n",
       "      <td>-0.06</td>\n",
       "      <td>-0.08</td>\n",
       "      <td>-0.09</td>\n",
       "    </tr>\n",
       "    <tr>\n",
       "      <th>2024-08-28 09:33:09</th>\n",
       "      <td>-0.12</td>\n",
       "      <td>-0.05</td>\n",
       "      <td>-0.03</td>\n",
       "      <td>-0.02</td>\n",
       "      <td>-0.10</td>\n",
       "      <td>0.09</td>\n",
       "      <td>0.00</td>\n",
       "      <td>-0.08</td>\n",
       "      <td>-0.08</td>\n",
       "      <td>-0.06</td>\n",
       "      <td>-0.08</td>\n",
       "    </tr>\n",
       "  </tbody>\n",
       "</table>\n",
       "<p>49190 rows × 11 columns</p>\n",
       "</div>"
      ],
      "text/plain": [
       "                        y  Acceleration_(t-1)  Acceleration_(t-2)  \\\n",
       "Timestamp                                                           \n",
       "2024-08-23 14:26:03  0.05               -0.05               -0.01   \n",
       "2024-08-23 14:26:08  0.02                0.05               -0.05   \n",
       "2024-08-23 14:26:10 -0.06                0.02                0.05   \n",
       "2024-08-23 14:26:20  0.03               -0.06                0.02   \n",
       "2024-08-23 14:26:22  0.07                0.03               -0.06   \n",
       "...                   ...                 ...                 ...   \n",
       "2024-08-28 09:32:59 -0.10                0.09                0.00   \n",
       "2024-08-28 09:33:04 -0.02               -0.10                0.09   \n",
       "2024-08-28 09:33:06 -0.03               -0.02               -0.10   \n",
       "2024-08-28 09:33:07 -0.05               -0.03               -0.02   \n",
       "2024-08-28 09:33:09 -0.12               -0.05               -0.03   \n",
       "\n",
       "                     Acceleration_(t-3)  Acceleration_(t-4)  \\\n",
       "Timestamp                                                     \n",
       "2024-08-23 14:26:03                0.01                0.12   \n",
       "2024-08-23 14:26:08               -0.01                0.01   \n",
       "2024-08-23 14:26:10               -0.05               -0.01   \n",
       "2024-08-23 14:26:20                0.05               -0.05   \n",
       "2024-08-23 14:26:22                0.02                0.05   \n",
       "...                                 ...                 ...   \n",
       "2024-08-28 09:32:59               -0.08               -0.08   \n",
       "2024-08-28 09:33:04                0.00               -0.08   \n",
       "2024-08-28 09:33:06                0.09                0.00   \n",
       "2024-08-28 09:33:07               -0.10                0.09   \n",
       "2024-08-28 09:33:09               -0.02               -0.10   \n",
       "\n",
       "                     Acceleration_(t-5)  Acceleration_(t-6)  \\\n",
       "Timestamp                                                     \n",
       "2024-08-23 14:26:03                0.15                0.01   \n",
       "2024-08-23 14:26:08                0.12                0.15   \n",
       "2024-08-23 14:26:10                0.01                0.12   \n",
       "2024-08-23 14:26:20               -0.01                0.01   \n",
       "2024-08-23 14:26:22               -0.05               -0.01   \n",
       "...                                 ...                 ...   \n",
       "2024-08-28 09:32:59               -0.06               -0.08   \n",
       "2024-08-28 09:33:04               -0.08               -0.06   \n",
       "2024-08-28 09:33:06               -0.08               -0.08   \n",
       "2024-08-28 09:33:07                0.00               -0.08   \n",
       "2024-08-28 09:33:09                0.09                0.00   \n",
       "\n",
       "                     Acceleration_(t-7)  Acceleration_(t-8)  \\\n",
       "Timestamp                                                     \n",
       "2024-08-23 14:26:03                0.11                0.03   \n",
       "2024-08-23 14:26:08                0.01                0.11   \n",
       "2024-08-23 14:26:10                0.15                0.01   \n",
       "2024-08-23 14:26:20                0.12                0.15   \n",
       "2024-08-23 14:26:22                0.01                0.12   \n",
       "...                                 ...                 ...   \n",
       "2024-08-28 09:32:59               -0.09               -0.16   \n",
       "2024-08-28 09:33:04               -0.08               -0.09   \n",
       "2024-08-28 09:33:06               -0.06               -0.08   \n",
       "2024-08-28 09:33:07               -0.08               -0.06   \n",
       "2024-08-28 09:33:09               -0.08               -0.08   \n",
       "\n",
       "                     Acceleration_(t-9)  Acceleration_(t-10)  \n",
       "Timestamp                                                     \n",
       "2024-08-23 14:26:03               -0.01                 0.01  \n",
       "2024-08-23 14:26:08                0.03                -0.01  \n",
       "2024-08-23 14:26:10                0.11                 0.03  \n",
       "2024-08-23 14:26:20                0.01                 0.11  \n",
       "2024-08-23 14:26:22                0.15                 0.01  \n",
       "...                                 ...                  ...  \n",
       "2024-08-28 09:32:59               -0.13                -0.14  \n",
       "2024-08-28 09:33:04               -0.16                -0.13  \n",
       "2024-08-28 09:33:06               -0.09                -0.16  \n",
       "2024-08-28 09:33:07               -0.08                -0.09  \n",
       "2024-08-28 09:33:09               -0.06                -0.08  \n",
       "\n",
       "[49190 rows x 11 columns]"
      ]
     },
     "execution_count": 29,
     "metadata": {},
     "output_type": "execute_result"
    }
   ],
   "source": [
    "from copy import deepcopy as copy\n",
    "\n",
    "\n",
    "# Create the dfset with lookback \n",
    "def create_dfset(df, n_steps):\n",
    "    df = copy(df)\n",
    "\n",
    "    df.set_index('Timestamp', inplace=True)\n",
    "\n",
    "    for i in range(1, n_steps+1): # Create columns for each lag\n",
    "        df[f'Acceleration_(t-{i})'] = df['y'].shift(i) # Shift the df by i steps\n",
    "\n",
    "    df.dropna(inplace=True)\n",
    "    return df\n",
    "\n",
    "lookback = 10\n",
    "shifted_df = create_dfset(df, lookback)\n",
    "shifted_df"
   ]
  },
  {
   "cell_type": "code",
   "execution_count": 30,
   "metadata": {},
   "outputs": [
    {
     "data": {
      "text/plain": [
       "array([[ 0.05, -0.05, -0.01, ...,  0.03, -0.01,  0.01],\n",
       "       [ 0.02,  0.05, -0.05, ...,  0.11,  0.03, -0.01],\n",
       "       [-0.06,  0.02,  0.05, ...,  0.01,  0.11,  0.03],\n",
       "       ...,\n",
       "       [-0.03, -0.02, -0.1 , ..., -0.08, -0.09, -0.16],\n",
       "       [-0.05, -0.03, -0.02, ..., -0.06, -0.08, -0.09],\n",
       "       [-0.12, -0.05, -0.03, ..., -0.08, -0.06, -0.08]])"
      ]
     },
     "execution_count": 30,
     "metadata": {},
     "output_type": "execute_result"
    }
   ],
   "source": [
    "shifted_df_as_np = shifted_df.to_numpy()\n",
    "shifted_df_as_np"
   ]
  },
  {
   "cell_type": "code",
   "execution_count": 31,
   "metadata": {},
   "outputs": [
    {
     "data": {
      "text/plain": [
       "array([[0.3618677 , 0.3229572 , 0.3385214 , ..., 0.3540856 , 0.3385214 ,\n",
       "        0.3463035 ],\n",
       "       [0.35019455, 0.3618677 , 0.3229572 , ..., 0.38521401, 0.3540856 ,\n",
       "        0.3385214 ],\n",
       "       [0.31906615, 0.35019455, 0.3618677 , ..., 0.3463035 , 0.38521401,\n",
       "        0.3540856 ],\n",
       "       ...,\n",
       "       [0.3307393 , 0.33463035, 0.30350195, ..., 0.31128405, 0.307393  ,\n",
       "        0.28015564],\n",
       "       [0.3229572 , 0.3307393 , 0.33463035, ..., 0.31906615, 0.31128405,\n",
       "        0.307393  ],\n",
       "       [0.29571984, 0.3229572 , 0.3307393 , ..., 0.31128405, 0.31906615,\n",
       "        0.31128405]])"
      ]
     },
     "execution_count": 31,
     "metadata": {},
     "output_type": "execute_result"
    }
   ],
   "source": [
    "from sklearn.preprocessing import MinMaxScaler\n",
    "\n",
    "# Normalize the df\n",
    "scaler = MinMaxScaler(feature_range=(-1, 1))\n",
    "shifted_df_as_np = scaler.fit_transform(shifted_df_as_np)\n",
    "\n",
    "shifted_df_as_np"
   ]
  },
  {
   "cell_type": "code",
   "execution_count": 32,
   "metadata": {},
   "outputs": [
    {
     "data": {
      "text/plain": [
       "((49190, 10), (49190,))"
      ]
     },
     "execution_count": 32,
     "metadata": {},
     "output_type": "execute_result"
    }
   ],
   "source": [
    "X = shifted_df_as_np[:, 1:]\n",
    "y = shifted_df_as_np[:, 0]\n",
    "\n",
    "X.shape, y.shape   "
   ]
  },
  {
   "cell_type": "code",
   "execution_count": 33,
   "metadata": {},
   "outputs": [
    {
     "data": {
      "text/plain": [
       "array([[0.3463035 , 0.3385214 , 0.3540856 , ..., 0.3463035 , 0.3385214 ,\n",
       "        0.3229572 ],\n",
       "       [0.3385214 , 0.3540856 , 0.38521401, ..., 0.3385214 , 0.3229572 ,\n",
       "        0.3618677 ],\n",
       "       [0.3540856 , 0.38521401, 0.3463035 , ..., 0.3229572 , 0.3618677 ,\n",
       "        0.35019455],\n",
       "       ...,\n",
       "       [0.28015564, 0.307393  , 0.31128405, ..., 0.37743191, 0.30350195,\n",
       "        0.33463035],\n",
       "       [0.307393  , 0.31128405, 0.31906615, ..., 0.30350195, 0.33463035,\n",
       "        0.3307393 ],\n",
       "       [0.31128405, 0.31906615, 0.31128405, ..., 0.33463035, 0.3307393 ,\n",
       "        0.3229572 ]])"
      ]
     },
     "execution_count": 33,
     "metadata": {},
     "output_type": "execute_result"
    }
   ],
   "source": [
    "X = copy(np.flip(X, axis=1)) # Reverse the order of the columns\n",
    "X"
   ]
  },
  {
   "cell_type": "code",
   "execution_count": 34,
   "metadata": {},
   "outputs": [
    {
     "data": {
      "text/plain": [
       "46730"
      ]
     },
     "execution_count": 34,
     "metadata": {},
     "output_type": "execute_result"
    }
   ],
   "source": [
    "split_index = int(0.95 * len(X)) # 95% of the df will be used for training\n",
    "split_index"
   ]
  },
  {
   "cell_type": "code",
   "execution_count": 35,
   "metadata": {},
   "outputs": [
    {
     "data": {
      "text/plain": [
       "((46730, 10), (46730,), (2460, 10), (2460,))"
      ]
     },
     "execution_count": 35,
     "metadata": {},
     "output_type": "execute_result"
    }
   ],
   "source": [
    "# Split the df into training and testing sets\n",
    "\n",
    "X_train, X_test = X[:split_index], X[split_index:]\n",
    "y_train, y_test = y[:split_index], y[split_index:]\n",
    "\n",
    "X_train.shape, y_train.shape, X_test.shape, y_test.shape"
   ]
  },
  {
   "cell_type": "code",
   "execution_count": 36,
   "metadata": {},
   "outputs": [
    {
     "data": {
      "text/plain": [
       "((46730, 10, 1), (46730, 1), (2460, 10, 1), (2460, 1))"
      ]
     },
     "execution_count": 36,
     "metadata": {},
     "output_type": "execute_result"
    }
   ],
   "source": [
    "# Convert the df to PyTorch tensors\n",
    "X_train = X_train.reshape(-1, lookback, 1)\n",
    "X_test = X_test.reshape(-1, lookback, 1)\n",
    "\n",
    "y_train = y_train.reshape(-1, 1)\n",
    "y_test = y_test.reshape(-1, 1)\n",
    "\n",
    "X_train.shape, y_train.shape, X_test.shape, y_test.shape"
   ]
  },
  {
   "cell_type": "code",
   "execution_count": 37,
   "metadata": {},
   "outputs": [
    {
     "data": {
      "text/plain": [
       "(torch.Size([46730, 10, 1]),\n",
       " torch.Size([46730, 1]),\n",
       " torch.Size([2460, 10, 1]),\n",
       " torch.Size([2460, 1]))"
      ]
     },
     "execution_count": 37,
     "metadata": {},
     "output_type": "execute_result"
    }
   ],
   "source": [
    "X_train = torch.tensor(X_train).float()\n",
    "X_test = torch.tensor(X_test).float()\n",
    "y_train = torch.tensor(y_train).float()\n",
    "y_test = torch.tensor(y_test).float()\n",
    "\n",
    "X_train.shape, y_train.shape, X_test.shape, y_test.shape"
   ]
  },
  {
   "cell_type": "code",
   "execution_count": 38,
   "metadata": {},
   "outputs": [],
   "source": [
    "from torch.utils.data import Dataset as dfset\n",
    "\n",
    "# Create a custom dfset\n",
    "class TimeSeriesdfset(dfset):\n",
    "    def __init__(self, X, y):\n",
    "        self.X = X\n",
    "        self.y = y\n",
    "\n",
    "    def __len__(self):\n",
    "        return len(self.X)\n",
    "\n",
    "    def __getitem__(self, idx):\n",
    "        return self.X[idx], self.y[idx]\n",
    "    \n",
    "train_dfset = TimeSeriesdfset(X_train, y_train)\n",
    "test_dfset = TimeSeriesdfset(X_test, y_test)\n"
   ]
  },
  {
   "cell_type": "code",
   "execution_count": 39,
   "metadata": {},
   "outputs": [],
   "source": [
    "from torch.utils.data import DataLoader as dfLoader\n",
    "# Create the df loaders\n",
    "\n",
    "BATCH_SIZE = 16\n",
    "\n",
    "train_loader = dfLoader(train_dfset, batch_size=BATCH_SIZE, shuffle=True)\n",
    "test_loader = dfLoader(test_dfset, batch_size=BATCH_SIZE, shuffle=False)"
   ]
  },
  {
   "cell_type": "code",
   "execution_count": 40,
   "metadata": {},
   "outputs": [
    {
     "name": "stdout",
     "output_type": "stream",
     "text": [
      "torch.Size([16, 10, 1]) torch.Size([16, 1])\n"
     ]
    }
   ],
   "source": [
    "\n",
    "for _, batch in enumerate(train_loader): # Loop through the training df\n",
    "    X_batch, y_batch = batch[0].to(device), batch[1].to(device)\n",
    "    print(X_batch.shape, y_batch.shape)\n",
    "    break"
   ]
  },
  {
   "cell_type": "code",
   "execution_count": 41,
   "metadata": {},
   "outputs": [
    {
     "data": {
      "text/plain": [
       "LSTM(\n",
       "  (lstm): LSTM(1, 4, num_layers=2, batch_first=True)\n",
       "  (fc): Linear(in_features=4, out_features=1, bias=True)\n",
       ")"
      ]
     },
     "execution_count": 41,
     "metadata": {},
     "output_type": "execute_result"
    }
   ],
   "source": [
    "class LSTM(nn.Module): # Define the LSTM model\n",
    "    def __init__(self, input_size, hidden_size, num_layers):\n",
    "        super().__init__()\n",
    "        self.hidden_size = hidden_size\n",
    "        self.num_layers = num_layers\n",
    "\n",
    "        self.lstm = nn.LSTM(input_size, hidden_size, num_layers, batch_first=True)\n",
    "        self.fc = nn.Linear(hidden_size, 1)\n",
    "\n",
    "    def forward(self, x):\n",
    "        batch_size = x.size(0)\n",
    "        h0 = torch.zeros(self.num_layers, batch_size, self.hidden_size).to(device)\n",
    "        c0 = torch.zeros(self.num_layers, batch_size, self.hidden_size).to(device)\n",
    "        out, _ = self.lstm(x, (h0, c0))\n",
    "        out = self.fc(out[:, -1, :])\n",
    "        return out\n",
    "    \n",
    "model = LSTM(input_size=1, hidden_size=4, num_layers=2).to(device)\n",
    "model"
   ]
  },
  {
   "cell_type": "code",
   "execution_count": 42,
   "metadata": {},
   "outputs": [],
   "source": [
    "def train_one_epoch(): # Train the model for one epoch\n",
    "    model.train(True)\n",
    "    print(f'Epoch {epoch+1}')\n",
    "    train_loss = 0.0\n",
    "\n",
    "    for i, batch in enumerate(train_loader):\n",
    "        X_batch, y_batch = batch[0].to(device), batch[1].to(device)\n",
    "\n",
    "        output = model(X_batch)\n",
    "        loss = loss_fn(output, y_batch)\n",
    "        train_loss += loss.item()\n",
    "\n",
    "        optimizer.zero_grad()\n",
    "        loss.backward()\n",
    "        optimizer.step()\n",
    "\n",
    "        if i % 100 == 99: # Print the loss every 100 batches\n",
    "            avg_loss = train_loss / 100\n",
    "            print(f'Batch {i}, Loss {loss.item()}')\n",
    "\n",
    "            train_loss = 0.0\n",
    "\n",
    "    print()"
   ]
  },
  {
   "cell_type": "code",
   "execution_count": 43,
   "metadata": {},
   "outputs": [],
   "source": [
    "\n",
    "def validate_one_epoch(): # Validate the model for one epoch\n",
    "    model.train(False)\n",
    "    val_loss = 0.0\n",
    "\n",
    "    for i, batch in enumerate(test_loader):\n",
    "        X_batch, y_batch = batch[0].to(device), batch[1].to(device)\n",
    "\n",
    "    with torch.no_grad():\n",
    "            output = model(X_batch)\n",
    "            loss = loss_fn(output, y_batch)\n",
    "            val_loss += loss.item()\n",
    "\n",
    "    avg_val_loss = val_loss / len(test_loader) # Calculate the average validation loss\n",
    "    print(f'Validation Loss {avg_val_loss}')\n",
    "    print()"
   ]
  },
  {
   "cell_type": "code",
   "execution_count": 44,
   "metadata": {},
   "outputs": [
    {
     "name": "stdout",
     "output_type": "stream",
     "text": [
      "Epoch 1\n",
      "Batch 99, Loss 0.0027342154644429684\n",
      "Batch 199, Loss 0.0007241521961987019\n",
      "Batch 299, Loss 0.0010437770979478955\n",
      "Batch 399, Loss 0.000573576835449785\n",
      "Batch 499, Loss 0.000810966594144702\n",
      "Batch 599, Loss 0.0011401533847674727\n",
      "Batch 699, Loss 0.0009206123067997396\n",
      "Batch 799, Loss 0.0006507387151941657\n",
      "Batch 899, Loss 0.00156697747297585\n",
      "Batch 999, Loss 0.0011448884615674615\n",
      "Batch 1099, Loss 0.0009070112719200552\n",
      "Batch 1199, Loss 0.0017271338729187846\n",
      "Batch 1299, Loss 0.0008376982295885682\n",
      "Batch 1399, Loss 0.001287289196625352\n",
      "Batch 1499, Loss 0.0009774899808689952\n",
      "Batch 1599, Loss 0.0016590931918472052\n",
      "Batch 1699, Loss 0.000436370843090117\n",
      "Batch 1799, Loss 0.0008228767546825111\n",
      "Batch 1899, Loss 0.0014745625667273998\n",
      "Batch 1999, Loss 0.0016511661233380437\n",
      "Batch 2099, Loss 0.0006449568318203092\n",
      "Batch 2199, Loss 0.0015045636100694537\n",
      "Batch 2299, Loss 0.0018445778405293822\n",
      "Batch 2399, Loss 0.0011736496817320585\n",
      "Batch 2499, Loss 0.0004282812587916851\n",
      "Batch 2599, Loss 0.000641958205960691\n",
      "Batch 2699, Loss 0.0038108541630208492\n",
      "Batch 2799, Loss 0.000965774292126298\n",
      "Batch 2899, Loss 0.003316436894237995\n",
      "\n",
      "Validation Loss 4.853257628206115e-06\n",
      "\n",
      "Epoch 2\n",
      "Batch 99, Loss 0.0006013750098645687\n",
      "Batch 199, Loss 0.002044110558927059\n",
      "Batch 299, Loss 0.0006972916889935732\n",
      "Batch 399, Loss 0.0011008130386471748\n",
      "Batch 499, Loss 0.0010855179280042648\n",
      "Batch 599, Loss 0.002042784821242094\n",
      "Batch 699, Loss 0.0009581927442923188\n",
      "Batch 799, Loss 0.0008398377103731036\n",
      "Batch 899, Loss 0.0020381209906190634\n",
      "Batch 999, Loss 0.0024966357741504908\n",
      "Batch 1099, Loss 0.0014654003316536546\n",
      "Batch 1199, Loss 0.0010353096295148134\n",
      "Batch 1299, Loss 0.0008081193082034588\n",
      "Batch 1399, Loss 0.0006630380521528423\n",
      "Batch 1499, Loss 0.0011018917430192232\n",
      "Batch 1599, Loss 0.0017921356484293938\n",
      "Batch 1699, Loss 0.0027080539148300886\n",
      "Batch 1799, Loss 0.0007916787872090936\n",
      "Batch 1899, Loss 0.0006382495630532503\n",
      "Batch 1999, Loss 0.000720482668839395\n",
      "Batch 2099, Loss 0.0007816388970240951\n",
      "Batch 2199, Loss 0.0014884573174640536\n",
      "Batch 2299, Loss 0.0015362929552793503\n",
      "Batch 2399, Loss 0.0010719811543822289\n",
      "Batch 2499, Loss 0.0018433686345815659\n",
      "Batch 2599, Loss 0.0008667686488479376\n",
      "Batch 2699, Loss 0.0006958362064324319\n",
      "Batch 2799, Loss 0.0012863874435424805\n",
      "Batch 2899, Loss 0.002047357615083456\n",
      "\n",
      "Validation Loss 4.566185004017377e-06\n",
      "\n",
      "Epoch 3\n",
      "Batch 99, Loss 0.0016492358408868313\n",
      "Batch 199, Loss 0.0012238470371812582\n",
      "Batch 299, Loss 0.00034407287603244185\n",
      "Batch 399, Loss 0.0006212559528648853\n",
      "Batch 499, Loss 0.0007576012285426259\n",
      "Batch 599, Loss 0.0003775946970563382\n",
      "Batch 699, Loss 0.00015421424177475274\n",
      "Batch 799, Loss 0.0015690162545070052\n",
      "Batch 899, Loss 0.0008530134800821543\n",
      "Batch 999, Loss 0.0009319153614342213\n",
      "Batch 1099, Loss 0.0012162207858636975\n",
      "Batch 1199, Loss 0.0015859915874898434\n",
      "Batch 1299, Loss 0.001661547925323248\n",
      "Batch 1399, Loss 0.0026838050689548254\n",
      "Batch 1499, Loss 0.0013064160011708736\n",
      "Batch 1599, Loss 0.0016604114789515734\n",
      "Batch 1699, Loss 0.0014181683072820306\n",
      "Batch 1799, Loss 0.0013150905724614859\n",
      "Batch 1899, Loss 0.0002756311441771686\n",
      "Batch 1999, Loss 0.0005156383849680424\n",
      "Batch 2099, Loss 0.0004339044098742306\n",
      "Batch 2199, Loss 0.00048468311433680356\n",
      "Batch 2299, Loss 0.0006247092387638986\n",
      "Batch 2399, Loss 0.0007924737874418497\n",
      "Batch 2499, Loss 0.0006875461549498141\n",
      "Batch 2599, Loss 0.0010841741459444165\n",
      "Batch 2699, Loss 0.0012827584287151694\n",
      "Batch 2799, Loss 0.0009441115544177592\n",
      "Batch 2899, Loss 0.0006610328564420342\n",
      "\n",
      "Validation Loss 3.405524245402836e-06\n",
      "\n",
      "Epoch 4\n",
      "Batch 99, Loss 0.002365900669246912\n",
      "Batch 199, Loss 0.0009330601897090673\n",
      "Batch 299, Loss 0.0019703672733157873\n",
      "Batch 399, Loss 0.000667702523060143\n",
      "Batch 499, Loss 0.001080393441952765\n",
      "Batch 599, Loss 0.002964446786791086\n",
      "Batch 699, Loss 0.0010046189418062568\n",
      "Batch 799, Loss 0.0014584552263841033\n",
      "Batch 899, Loss 0.0007852914277464151\n",
      "Batch 999, Loss 0.000775800202973187\n",
      "Batch 1099, Loss 0.0011397638591006398\n",
      "Batch 1199, Loss 0.0010161354439333081\n",
      "Batch 1299, Loss 0.00039713975274935365\n",
      "Batch 1399, Loss 0.0010151248425245285\n",
      "Batch 1499, Loss 0.0006778704118914902\n",
      "Batch 1599, Loss 0.0012609059922397137\n",
      "Batch 1699, Loss 0.0023886775597929955\n",
      "Batch 1799, Loss 0.0030379770323634148\n",
      "Batch 1899, Loss 0.0007948607672005892\n",
      "Batch 1999, Loss 0.0005158880958333611\n",
      "Batch 2099, Loss 0.0008213225519284606\n",
      "Batch 2199, Loss 0.0006436416879296303\n",
      "Batch 2299, Loss 0.0008927100570872426\n",
      "Batch 2399, Loss 0.001164180226624012\n",
      "Batch 2499, Loss 0.001784757012501359\n",
      "Batch 2599, Loss 0.0010412950068712234\n",
      "Batch 2699, Loss 0.00041003889054991305\n",
      "Batch 2799, Loss 0.0028956150636076927\n",
      "Batch 2899, Loss 0.0008818506030365825\n",
      "\n",
      "Validation Loss 3.633314634782153e-06\n",
      "\n",
      "Epoch 5\n",
      "Batch 99, Loss 0.0005393658066168427\n",
      "Batch 199, Loss 0.0010090514551848173\n",
      "Batch 299, Loss 0.0011098174145445228\n",
      "Batch 399, Loss 0.0011878811055794358\n",
      "Batch 499, Loss 0.0006249796715565026\n",
      "Batch 599, Loss 0.0012121363542973995\n",
      "Batch 699, Loss 0.0012786807492375374\n",
      "Batch 799, Loss 0.0017576530808582902\n",
      "Batch 899, Loss 0.00036500347778201103\n",
      "Batch 999, Loss 0.001196680124849081\n",
      "Batch 1099, Loss 0.001457200851291418\n",
      "Batch 1199, Loss 0.00042792235035449266\n",
      "Batch 1299, Loss 0.0003704094560816884\n",
      "Batch 1399, Loss 0.0010574288899078965\n",
      "Batch 1499, Loss 0.0006261112866923213\n",
      "Batch 1599, Loss 0.0009894074173644185\n",
      "Batch 1699, Loss 0.0009754919447004795\n",
      "Batch 1799, Loss 0.0010507517727091908\n",
      "Batch 1899, Loss 0.0005777307087555528\n",
      "Batch 1999, Loss 0.0008651789976283908\n",
      "Batch 2099, Loss 0.0010490944841876626\n",
      "Batch 2199, Loss 0.0006733772461302578\n",
      "Batch 2299, Loss 0.0013320273719727993\n",
      "Batch 2399, Loss 0.0009522525942884386\n",
      "Batch 2499, Loss 0.0029786291997879744\n",
      "Batch 2599, Loss 0.0018149412935599685\n",
      "Batch 2699, Loss 0.0009520108578726649\n",
      "Batch 2799, Loss 0.0011204946786165237\n",
      "Batch 2899, Loss 0.0030144653283059597\n",
      "\n",
      "Validation Loss 3.922102495108719e-06\n",
      "\n",
      "Epoch 6\n",
      "Batch 99, Loss 0.0013528206618502736\n",
      "Batch 199, Loss 0.0017075024079531431\n",
      "Batch 299, Loss 0.001047308323904872\n",
      "Batch 399, Loss 0.0005528022884391248\n",
      "Batch 499, Loss 0.003080007154494524\n",
      "Batch 599, Loss 0.0012563611380755901\n",
      "Batch 699, Loss 0.0014503456186503172\n",
      "Batch 799, Loss 0.0034643099643290043\n",
      "Batch 899, Loss 0.00122337497305125\n",
      "Batch 999, Loss 0.0004022757930215448\n",
      "Batch 1099, Loss 0.0007126459968276322\n",
      "Batch 1199, Loss 0.004377785604447126\n",
      "Batch 1299, Loss 0.0012674446916207671\n",
      "Batch 1399, Loss 0.0015660030767321587\n",
      "Batch 1499, Loss 0.0009728408767841756\n",
      "Batch 1599, Loss 0.0015258174389600754\n",
      "Batch 1699, Loss 0.0014468731824308634\n",
      "Batch 1799, Loss 0.0008012631442397833\n",
      "Batch 1899, Loss 0.002384379506111145\n",
      "Batch 1999, Loss 0.0009685993427410722\n",
      "Batch 2099, Loss 0.0007591152098029852\n",
      "Batch 2199, Loss 0.0010839018505066633\n",
      "Batch 2299, Loss 0.0006372284842655063\n",
      "Batch 2399, Loss 0.0003717485524248332\n",
      "Batch 2499, Loss 0.0012074054684489965\n",
      "Batch 2599, Loss 0.0005701137124560773\n",
      "Batch 2699, Loss 0.0013658159878104925\n",
      "Batch 2799, Loss 0.00017279895837418735\n",
      "Batch 2899, Loss 0.0003667549171950668\n",
      "\n",
      "Validation Loss 3.852134240887962e-06\n",
      "\n",
      "Epoch 7\n",
      "Batch 99, Loss 0.0004340805462561548\n",
      "Batch 199, Loss 0.0018099738517776132\n",
      "Batch 299, Loss 0.001345499767921865\n",
      "Batch 399, Loss 0.0012041558511555195\n",
      "Batch 499, Loss 0.002325839828699827\n",
      "Batch 599, Loss 0.0005781643558293581\n",
      "Batch 699, Loss 0.0010758162243291736\n",
      "Batch 799, Loss 0.0017172090010717511\n",
      "Batch 899, Loss 0.001054284512065351\n",
      "Batch 999, Loss 0.0023338079918175936\n",
      "Batch 1099, Loss 0.0007966732373461127\n",
      "Batch 1199, Loss 0.001995923463255167\n",
      "Batch 1299, Loss 0.003845468396320939\n",
      "Batch 1399, Loss 0.00034426985075697303\n",
      "Batch 1499, Loss 0.0008748751133680344\n",
      "Batch 1599, Loss 0.003459618892520666\n",
      "Batch 1699, Loss 0.0014711138792335987\n",
      "Batch 1799, Loss 0.000684067839756608\n",
      "Batch 1899, Loss 0.0017183066811412573\n",
      "Batch 1999, Loss 0.0004694522940553725\n",
      "Batch 2099, Loss 0.0019428583327680826\n",
      "Batch 2199, Loss 0.0010715979151427746\n",
      "Batch 2299, Loss 0.0007108176359906793\n",
      "Batch 2399, Loss 0.0006535521242767572\n",
      "Batch 2499, Loss 0.0008359625353477895\n",
      "Batch 2599, Loss 0.0002946909808088094\n",
      "Batch 2699, Loss 0.0007731984369456768\n",
      "Batch 2799, Loss 0.0010052922880277038\n",
      "Batch 2899, Loss 0.0008375042816624045\n",
      "\n",
      "Validation Loss 4.8027394260824115e-06\n",
      "\n",
      "Epoch 8\n",
      "Batch 99, Loss 0.00048379722284153104\n",
      "Batch 199, Loss 0.0009626424871385098\n",
      "Batch 299, Loss 0.0006226035766303539\n",
      "Batch 399, Loss 0.0007741860463283956\n",
      "Batch 499, Loss 0.0028473432175815105\n",
      "Batch 599, Loss 0.0010276647517457604\n",
      "Batch 699, Loss 0.0017072523478418589\n",
      "Batch 799, Loss 0.0031188828870654106\n",
      "Batch 899, Loss 0.0014387416886165738\n",
      "Batch 999, Loss 0.0015349832829087973\n",
      "Batch 1099, Loss 0.00047308282228186727\n",
      "Batch 1199, Loss 0.00035548454616218805\n",
      "Batch 1299, Loss 0.0010507029946893454\n",
      "Batch 1399, Loss 0.001473763957619667\n",
      "Batch 1499, Loss 0.00044842035276815295\n",
      "Batch 1599, Loss 0.0010213172063231468\n",
      "Batch 1699, Loss 0.000448963837698102\n",
      "Batch 1799, Loss 0.0009818845428526402\n",
      "Batch 1899, Loss 0.00041949489968828857\n",
      "Batch 1999, Loss 0.002553808968514204\n",
      "Batch 2099, Loss 0.0003643011732492596\n",
      "Batch 2199, Loss 0.0018714965553954244\n",
      "Batch 2299, Loss 0.0009437656262889504\n",
      "Batch 2399, Loss 0.0002072109200526029\n",
      "Batch 2499, Loss 0.001619855873286724\n",
      "Batch 2599, Loss 0.0010162664111703634\n",
      "Batch 2699, Loss 0.0004981121164746583\n",
      "Batch 2799, Loss 0.00036703507066704333\n",
      "Batch 2899, Loss 0.0019273466896265745\n",
      "\n",
      "Validation Loss 3.2706869548404373e-06\n",
      "\n",
      "Epoch 9\n",
      "Batch 99, Loss 0.001670484198257327\n",
      "Batch 199, Loss 0.0006355342920869589\n",
      "Batch 299, Loss 0.0027032524812966585\n",
      "Batch 399, Loss 0.00037362996954470873\n",
      "Batch 499, Loss 0.0030010584741830826\n",
      "Batch 599, Loss 0.0010029403492808342\n",
      "Batch 699, Loss 0.0008336608298122883\n",
      "Batch 799, Loss 0.0008725958759896457\n",
      "Batch 899, Loss 0.0009441088186576962\n",
      "Batch 999, Loss 0.00045058480463922024\n",
      "Batch 1099, Loss 0.0008258492453023791\n",
      "Batch 1199, Loss 0.0005729800323024392\n",
      "Batch 1299, Loss 0.0007910286076366901\n",
      "Batch 1399, Loss 0.001026976853609085\n",
      "Batch 1499, Loss 0.0010280725546181202\n",
      "Batch 1599, Loss 0.0004907392431050539\n",
      "Batch 1699, Loss 0.0022351292427629232\n",
      "Batch 1799, Loss 0.0005625230842269957\n",
      "Batch 1899, Loss 0.0030071036890149117\n",
      "Batch 1999, Loss 0.0017555203521624207\n",
      "Batch 2099, Loss 0.001753184013068676\n",
      "Batch 2199, Loss 0.0012972214026376605\n",
      "Batch 2299, Loss 0.0008012610487639904\n",
      "Batch 2399, Loss 0.0010006590746343136\n",
      "Batch 2499, Loss 0.003732722019776702\n",
      "Batch 2599, Loss 0.0009266170673072338\n",
      "Batch 2699, Loss 0.0010321912122890353\n",
      "Batch 2799, Loss 0.0006844088784419\n",
      "Batch 2899, Loss 0.000427718652645126\n",
      "\n",
      "Validation Loss 4.663010802144161e-06\n",
      "\n",
      "Epoch 10\n",
      "Batch 99, Loss 0.00031059436150826514\n",
      "Batch 199, Loss 0.0005254708230495453\n",
      "Batch 299, Loss 0.0015292197931557894\n",
      "Batch 399, Loss 0.000531200144905597\n",
      "Batch 499, Loss 0.0004921701038256288\n",
      "Batch 599, Loss 0.0014596160035580397\n",
      "Batch 699, Loss 0.0025464168284088373\n",
      "Batch 799, Loss 0.0020797313190996647\n",
      "Batch 899, Loss 0.001321584451943636\n",
      "Batch 999, Loss 0.000752406136598438\n",
      "Batch 1099, Loss 0.0006150185945443809\n",
      "Batch 1199, Loss 0.0009693928877823055\n",
      "Batch 1299, Loss 0.00377627182751894\n",
      "Batch 1399, Loss 0.0019005138892680407\n",
      "Batch 1499, Loss 0.0017457265639677644\n",
      "Batch 1599, Loss 0.0009399097762070596\n",
      "Batch 1699, Loss 0.0009846077300608158\n",
      "Batch 1799, Loss 0.0007037364412099123\n",
      "Batch 1899, Loss 0.0022611278109252453\n",
      "Batch 1999, Loss 0.0006120386533439159\n",
      "Batch 2099, Loss 0.0016433752607554197\n",
      "Batch 2199, Loss 0.0010195865761488676\n",
      "Batch 2299, Loss 0.0002513533690944314\n",
      "Batch 2399, Loss 0.0007761502638459206\n",
      "Batch 2499, Loss 0.0015292818425223231\n",
      "Batch 2599, Loss 0.0012072265380993485\n",
      "Batch 2699, Loss 0.0015802894486114383\n",
      "Batch 2799, Loss 0.003007554914802313\n",
      "Batch 2899, Loss 0.002437142189592123\n",
      "\n",
      "Validation Loss 4.719194045967677e-06\n",
      "\n"
     ]
    }
   ],
   "source": [
    "# Train the model\n",
    "\n",
    "learning_rate = 0.001\n",
    "num_epochs = 10\n",
    "loss_fn = nn.MSELoss()\n",
    "optimizer = torch.optim.Adam(model.parameters(), lr=learning_rate)\n",
    "\n",
    "for epoch in range(num_epochs):\n",
    "    train_one_epoch()\n",
    "    validate_one_epoch()"
   ]
  },
  {
   "cell_type": "code",
   "execution_count": 46,
   "metadata": {},
   "outputs": [
    {
     "data": {
      "text/plain": [
       "<matplotlib.legend.Legend at 0x74b9773fdb40>"
      ]
     },
     "execution_count": 46,
     "metadata": {},
     "output_type": "execute_result"
    },
    {
     "data": {
      "image/png": "[encoded data removed]",
      "text/plain": [
       "<Figure size 1500x800 with 1 Axes>"
      ]
     },
     "metadata": {},
     "output_type": "display_data"
    }
   ],
   "source": [
    "# Make predictions\n",
    "\n",
    "with torch.no_grad():\n",
    "    predicted = model(X_train.to(device)).to('cpu').numpy()\n",
    "\n",
    "plt.figure(figsize=(15, 8))\n",
    "plt.plot(y_train.cpu().numpy(), label='True')\n",
    "plt.plot(predicted, label='Predicted')\n",
    "plt.legend()"
   ]
  },
  {
   "cell_type": "code",
   "execution_count": 47,
   "metadata": {},
   "outputs": [
    {
     "data": {
      "text/plain": [
       "array([-0.0082872 , -0.00784496, -0.00797287, ..., -0.00788655,\n",
       "       -0.00779502, -0.0083186 ])"
      ]
     },
     "execution_count": 47,
     "metadata": {},
     "output_type": "execute_result"
    }
   ],
   "source": [
    "# Inverse transform the df\n",
    "\n",
    "train_predictions = predicted.flatten()\n",
    "\n",
    "dummies = np.zeros((X_train.shape[0], lookback+1))\n",
    "dummies[:,0]= train_predictions\n",
    "dummies = scaler.inverse_transform(dummies)\n",
    "\n",
    "train_predictions = copy(dummies[:,0])\n",
    "train_predictions"
   ]
  },
  {
   "cell_type": "code",
   "execution_count": 48,
   "metadata": {},
   "outputs": [
    {
     "data": {
      "text/plain": [
       "array([ 0.04999998,  0.01999998, -0.06000003, ...,  0.04999998,\n",
       "       -0.06000003,  0.05999998])"
      ]
     },
     "execution_count": 48,
     "metadata": {},
     "output_type": "execute_result"
    }
   ],
   "source": [
    "dummies = np.zeros((X_train.shape[0], lookback+1))\n",
    "dummies[:,0]= y_train.flatten()\n",
    "dummies = scaler.inverse_transform(dummies)\n",
    "\n",
    "new_y_train = copy(dummies[:,0])\n",
    "new_y_train"
   ]
  },
  {
   "cell_type": "code",
   "execution_count": 49,
   "metadata": {},
   "outputs": [
    {
     "data": {
      "text/plain": [
       "<matplotlib.legend.Legend at 0x74b97726d2a0>"
      ]
     },
     "execution_count": 49,
     "metadata": {},
     "output_type": "execute_result"
    },
    {
     "data": {
      "image/png": "[encoded data removed]",
      "text/plain": [
       "<Figure size 1500x800 with 1 Axes>"
      ]
     },
     "metadata": {},
     "output_type": "display_data"
    }
   ],
   "source": [
    "# Plot the predictions\n",
    "\n",
    "plt.figure(figsize=(15, 8))\n",
    "plt.plot(new_y_train, label='True')\n",
    "plt.plot(train_predictions, label='Predicted')\n",
    "plt.legend()\n"
   ]
  },
  {
   "cell_type": "code",
   "execution_count": 50,
   "metadata": {},
   "outputs": [
    {
     "data": {
      "text/plain": [
       "array([-0.00778629, -0.00810889, -0.00773229, ..., -0.00817989,\n",
       "       -0.00824224, -0.00833009])"
      ]
     },
     "execution_count": 50,
     "metadata": {},
     "output_type": "execute_result"
    }
   ],
   "source": [
    "# Make predictions on the test set\n",
    "\n",
    "test_predictions = model(X_test.to(device)).detach().cpu().numpy().flatten()\n",
    "dummies = np.zeros((X_test.shape[0], lookback+1))\n",
    "dummies[:,0]= test_predictions\n",
    "dummies = scaler.inverse_transform(dummies)\n",
    "\n",
    "test_predictions = copy(dummies[:,0])\n",
    "test_predictions"
   ]
  },
  {
   "cell_type": "code",
   "execution_count": 51,
   "metadata": {},
   "outputs": [
    {
     "data": {
      "text/plain": [
       "array([-0.01000002,  0.06999998,  0.08999998, ..., -0.03000003,\n",
       "       -0.05000003, -0.12000003])"
      ]
     },
     "execution_count": 51,
     "metadata": {},
     "output_type": "execute_result"
    }
   ],
   "source": [
    "dummies = np.zeros((X_test.shape[0], lookback+1))\n",
    "dummies[:,0]= y_test.flatten()\n",
    "dummies = scaler.inverse_transform(dummies)\n",
    "\n",
    "new_y_test = copy(dummies[:,0])\n",
    "new_y_test"
   ]
  },
  {
   "cell_type": "code",
   "execution_count": 52,
   "metadata": {},
   "outputs": [
    {
     "data": {
      "text/plain": [
       "<matplotlib.legend.Legend at 0x74b9773817b0>"
      ]
     },
     "execution_count": 52,
     "metadata": {},
     "output_type": "execute_result"
    },
    {
     "data": {
      "image/png": "[encoded data removed]",
      "text/plain": [
       "<Figure size 1500x800 with 1 Axes>"
      ]
     },
     "metadata": {},
     "output_type": "display_data"
    }
   ],
   "source": [
    "plt.figure(figsize=(15, 8))\n",
    "plt.plot(new_y_test, label='True')\n",
    "plt.plot(test_predictions, label='Predicted')\n",
    "plt.legend()\n"
   ]
  },
  {
   "cell_type": "code",
   "execution_count": null,
   "metadata": {},
   "outputs": [],
   "source": []
  },
  {
   "cell_type": "code",
   "execution_count": null,
   "metadata": {},
   "outputs": [],
   "source": []
  }
 ],
 "metadata": {
  "kernelspec": {
   "display_name": "Python 3",
   "language": "python",
   "name": "python3"
  },
  "language_info": {
   "codemirror_mode": {
    "name": "ipython",
    "version": 3
   },
   "file_extension": ".py",
   "mimetype": "text/x-python",
   "name": "python",
   "nbconvert_exporter": "python",
   "pygments_lexer": "ipython3",
   "version": "3.10.12"
  }
 },
 "nbformat": 4,
 "nbformat_minor": 2
}
