{
 "cells": [
  {
   "cell_type": "code",
   "execution_count": null,
   "id": "c9cf48cd-fe49-42e1-9884-ac102d4f5847",
   "metadata": {},
   "outputs": [],
   "source": [
    "import matplotlib.pyplot as plt\n",
    "import numpy as np\n",
    "import pandas as pd\n",
    "import pmdarima as pm\n",
    "import os\n",
    "import math\n",
    "from sklearn.metrics import mean_squared_error\n",
    "import matplotlib.dates as mdates\n",
    "import warnings\n",
    "warnings.filterwarnings('ignore')\n"
   ]
  },
  {
   "cell_type": "code",
   "execution_count": null,
   "id": "7ed06bbb",
   "metadata": {},
   "outputs": [],
   "source": [
    "# Load the data\n",
    "\n",
    "path = \"/home/guts/Documents/accel_data/acceleration_data.csv\"\n",
    "df = pd.read_csv(path)\n",
    "df['Timestamp'] = pd.to_datetime(df['Timestamp'])\n",
    "df"
   ]
  },
  {
   "cell_type": "code",
   "execution_count": null,
   "id": "62700532",
   "metadata": {},
   "outputs": [],
   "source": [
    "# Plot the data\n",
    "plt.figure(figsize=(20,10))\n",
    "plt.plot(df['Timestamp'], df['Acceleration'])\n",
    "plt.xticks(rotation=45)\n",
    "plt.show()"
   ]
  },
  {
   "cell_type": "code",
   "execution_count": null,
   "id": "2b7b83e7",
   "metadata": {},
   "outputs": [],
   "source": [
    "# Split the data\n",
    "split = int(0.8 * len(df))\n",
    "train = df[18:split]\n",
    "test = df[split:]"
   ]
  },
  {
   "cell_type": "code",
   "execution_count": null,
   "id": "acda525b",
   "metadata": {},
   "outputs": [],
   "source": [
    "# Plot the train and test sets\n",
    "plt.figure(figsize=(20,10))\n",
    "plt.plot(train['Timestamp'], train['Acceleration'], color=\"black\", label=\"Train Set\")\n",
    "plt.plot(test['Timestamp'], test['Acceleration'], color=\"red\", label=\"Test Set\")\n",
    "plt.xlabel(\"Date\")\n",
    "plt.ylabel(\"Value\")\n",
    "plt.title(\"Train and Test Sets\")\n",
    "plt.legend()\n",
    "plt.grid(True)\n",
    "plt.xticks(rotation=45)\n",
    "\n",
    "plt.show()\n"
   ]
  },
  {
   "cell_type": "code",
   "execution_count": null,
   "id": "d6e96f82",
   "metadata": {},
   "outputs": [],
   "source": [
    "# Fit the model\n",
    "model = pm.auto_arima(train['Acceleration'], \n",
    "                      start_p=1, start_q=1,\n",
    "                      test='adf',  # Use ADF test to find optimal 'd'\n",
    "                      max_p=5, max_q=5,\n",
    "                      m=10,  # Frequency of series\n",
    "                      start_P=0, \n",
    "                      seasonal=True, \n",
    "                      d=1,  # Apply differencing\n",
    "                      D=1,  # Seasonal differencing\n",
    "                      trace=True,\n",
    "                      error_action='ignore',  \n",
    "                      suppress_warnings=True, \n",
    "                      stepwise=True)\n"
   ]
  },
  {
   "cell_type": "code",
   "execution_count": null,
   "id": "4813feb7",
   "metadata": {},
   "outputs": [],
   "source": [
    "# Forecast\n",
    "print(model.summary())\n",
    "forecasts = model.predict(n_periods=len(test))\n",
    "forecasts"
   ]
  },
  {
   "cell_type": "code",
   "execution_count": null,
   "id": "9ddd1f89",
   "metadata": {},
   "outputs": [],
   "source": [
    "# Evaluate the model\n",
    "forecasts_df = pd.DataFrame()\n",
    "forecasts_df['ds'] = test['ds']\n",
    "forecasts_df['Acceleration'] = forecasts.values\n",
    "forecasts_df['ds'] = pd.to_datetime(forecasts_df['ds'])\n",
    "#forecasts_with_nans = insert_nans(forecasts_df)\n",
    "print((forecasts_df))\n",
    "plt.figure(figsize=(30, 10))\n",
    "plt.plot(forecasts_df['ds'], forecasts_df['Acceleration'], color=\"blue\", label=\"Predictions\")"
   ]
  },
  {
   "cell_type": "code",
   "execution_count": null,
   "id": "f531d125",
   "metadata": {},
   "outputs": [],
   "source": [
    "# Plot the train, test sets and predictions\n",
    "\n",
    "plt.figure(figsize=(30,10))\n",
    "plt.plot(train['ds'], train['Acceleration'], color=\"black\", label=\"Train Set\")\n",
    "plt.plot(test['ds'], test['Acceleration'], color=\"red\", label=\"Test Set\")\n",
    "plt.plot(forecasts_df['ds'], forecasts_df['Acceleration'], color=\"blue\", label=\"Predictions\")\n",
    "\n",
    "plt.xlabel(\"Date\")\n",
    "plt.ylabel(\"Value\")\n",
    "plt.title(\"Train, Test Sets and Predictions\")\n",
    "plt.legend()\n",
    "plt.grid(True)\n",
    "plt.xticks(rotation=45)\n",
    "\n",
    "plt.show()\n",
    "\n"
   ]
  },
  {
   "cell_type": "code",
   "execution_count": null,
   "id": "75a5bcd0",
   "metadata": {},
   "outputs": [],
   "source": []
  }
 ],
 "metadata": {
  "kernelspec": {
   "display_name": "Python 3 (ipykernel)",
   "language": "python",
   "name": "python3"
  },
  "language_info": {
   "codemirror_mode": {
    "name": "ipython",
    "version": 3
   },
   "file_extension": ".py",
   "mimetype": "text/x-python",
   "name": "python",
   "nbconvert_exporter": "python",
   "pygments_lexer": "ipython3",
   "version": "3.10.12"
  }
 },
 "nbformat": 4,
 "nbformat_minor": 5
}
